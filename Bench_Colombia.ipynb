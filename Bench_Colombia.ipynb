{
 "cells": [
  {
   "cell_type": "markdown",
   "id": "6b8c78fa",
   "metadata": {},
   "source": [
    "# Bench Colombia"
   ]
  },
  {
   "cell_type": "markdown",
   "id": "75ab6abc",
   "metadata": {},
   "source": [
    "### Control"
   ]
  },
  {
   "cell_type": "markdown",
   "id": "dc22d74b",
   "metadata": {},
   "source": [
    "Panel de control"
   ]
  },
  {
   "cell_type": "markdown",
   "id": "1e948dc7",
   "metadata": {},
   "source": [
    "<div class = 'alert alert-block alert-info'>\n",
    "    <b>Controlador :</b> Cliente, Categoría, Marca 1, Marca 2, Meses anteriores, Date(fecha), Centro comercial, Ciudad.\n",
    "    </div>"
   ]
  },
  {
   "cell_type": "markdown",
   "id": "e9057721",
   "metadata": {},
   "source": [
    "### Evolución YTD"
   ]
  },
  {
   "cell_type": "markdown",
   "id": "b597c6dd",
   "metadata": {},
   "source": [
    "Evolución con respecto de un mes vs el mismo mes de otro año"
   ]
  },
  {
   "cell_type": "markdown",
   "id": "fd19778a",
   "metadata": {},
   "source": [
    "<div class = 'alert alert-block alert-info'>\n",
    "    <b>Indicadores :</b> Industria, Categoría, clientes\n",
    "    </div>"
   ]
  },
  {
   "cell_type": "markdown",
   "id": "a0898850",
   "metadata": {},
   "source": [
    "### Comparativo mensual"
   ]
  },
  {
   "cell_type": "markdown",
   "id": "17e0179f",
   "metadata": {},
   "source": [
    "Comparativo con respecto de un mes vs el mismo mes de otro año"
   ]
  },
  {
   "cell_type": "markdown",
   "id": "b081ddbb",
   "metadata": {},
   "source": [
    "<div class = 'alert alert-block alert-info'>\n",
    "    <b>Indicadores :</b> Industria, Categoría,clientes\n",
    "    </div>"
   ]
  },
  {
   "cell_type": "markdown",
   "id": "db5d09f6",
   "metadata": {},
   "source": [
    "### Comparativo mes anterior "
   ]
  },
  {
   "cell_type": "markdown",
   "id": "28765825",
   "metadata": {},
   "source": [
    "Compara respecto de un mes al mes anterior del mismo año"
   ]
  },
  {
   "cell_type": "markdown",
   "id": "6ce2a9b8",
   "metadata": {},
   "source": [
    "<div class = 'alert alert-block alert-info'>\n",
    "    <b>Indicadores :</b> Industria, Categoría,clientes\n",
    "    </div>"
   ]
  },
  {
   "cell_type": "markdown",
   "id": "08557ae8",
   "metadata": {},
   "source": [
    "### Evolución mensual"
   ]
  },
  {
   "cell_type": "markdown",
   "id": "37c3086d",
   "metadata": {},
   "source": [
    "Dato en gráfico promedio de un mes comparado con 45 clientes de su categoría (moda hombre mujer)"
   ]
  },
  {
   "cell_type": "markdown",
   "id": "77268497",
   "metadata": {},
   "source": [
    "<div class = 'alert alert-block alert-info'>\n",
    "    <b>Indicadores :</b> Categoría,clientes, Marca\n",
    "    </div>"
   ]
  },
  {
   "cell_type": "markdown",
   "id": "18c0d2d0",
   "metadata": {},
   "source": [
    "### Comparativo mensual"
   ]
  },
  {
   "cell_type": "markdown",
   "id": "14bdf6aa",
   "metadata": {},
   "source": [
    "Dato promedio mensual mostrando en grafico venta promedio, tráfico, Tasa conversion, Ticket promedio"
   ]
  },
  {
   "cell_type": "markdown",
   "id": "5514092a",
   "metadata": {},
   "source": [
    "<div class = 'alert alert-block alert-info'>\n",
    "    <b>Indicadores :</b> Categoría,clientes, Marca\n",
    "    </div>"
   ]
  },
  {
   "cell_type": "markdown",
   "id": "cb954b3f",
   "metadata": {},
   "source": [
    "### Comparativo mensual "
   ]
  },
  {
   "cell_type": "markdown",
   "id": "af7fbac7",
   "metadata": {},
   "source": [
    "Comparativo mensual promedio por marcas seleccionadas"
   ]
  },
  {
   "cell_type": "markdown",
   "id": "70aa34c7",
   "metadata": {},
   "source": [
    "<div class = 'alert alert-block alert-info'>\n",
    "    <b>Indicadores :</b> Categoría,clientes, Marca\n",
    "    </div>"
   ]
  },
  {
   "cell_type": "markdown",
   "id": "00e481dd",
   "metadata": {},
   "source": [
    "### Participación ventas y entradas"
   ]
  },
  {
   "cell_type": "markdown",
   "id": "6340b042",
   "metadata": {},
   "source": [
    "Representa dos gráficos donde se muestra las ventas y el tráfico por cliente y categoría"
   ]
  },
  {
   "cell_type": "markdown",
   "id": "98c8faaa",
   "metadata": {},
   "source": [
    "<div class = 'alert alert-block alert-info'>\n",
    "    <b>Indicadores :</b> Categoría,clientes\n",
    "    </div>"
   ]
  },
  {
   "cell_type": "markdown",
   "id": "f9b5e529",
   "metadata": {},
   "source": [
    "### Centros comerciales"
   ]
  },
  {
   "cell_type": "markdown",
   "id": "06d462c4",
   "metadata": {},
   "source": [
    "Tabla donde muestra distintos centros comerciales y sus ventas, Tráficos, Conversion, etcétera"
   ]
  },
  {
   "cell_type": "markdown",
   "id": "e117caf3",
   "metadata": {},
   "source": [
    "<div class = 'alert alert-block alert-info'>\n",
    "    <b>Indicadores :</b> Centros comerciales\n",
    "    </div>"
   ]
  },
  {
   "cell_type": "markdown",
   "id": "3ac2a5ec",
   "metadata": {},
   "source": [
    "### Resumen Clientes"
   ]
  },
  {
   "cell_type": "markdown",
   "id": "42cb448d",
   "metadata": {},
   "source": [
    "Tabla que muestra como esta el **cliente** respecto las ventas, variaciones, entradas en relación a años anteriores por"
   ]
  },
  {
   "cell_type": "markdown",
   "id": "ee22ff35",
   "metadata": {},
   "source": [
    "<div class = 'alert alert-block alert-info'>\n",
    "    <b>Indicadores :</b> Ciudad, centro comercial, categoría, cliente, tienda y localidad\n",
    "    </div>"
   ]
  },
  {
   "cell_type": "markdown",
   "id": "9b5a6f33",
   "metadata": {},
   "source": [
    "### Resumen semanas"
   ]
  },
  {
   "cell_type": "markdown",
   "id": "b7ada5e1",
   "metadata": {},
   "source": [
    "Tabla que muestra la semana del cliente en cuanto a variación y año actual"
   ]
  },
  {
   "cell_type": "markdown",
   "id": "433228a6",
   "metadata": {},
   "source": [
    "<div class = 'alert alert-block alert-info'>\n",
    "    <b>Indicadores :</b> Ciudad, centro comercial, categoría, cliente, tienda y tipo (Venta, tráfico, conversion y ticket promedio)\n",
    "    </div>"
   ]
  },
  {
   "cell_type": "markdown",
   "id": "e39712d5",
   "metadata": {},
   "source": [
    "### Resumen general"
   ]
  },
  {
   "cell_type": "markdown",
   "id": "f954d8f1",
   "metadata": {},
   "source": [
    "Tablas que representan la variacion de ventas general, variacion de entradas, varición T.Prom, Var. artículos por ticket"
   ]
  },
  {
   "cell_type": "markdown",
   "id": "a6f93d06",
   "metadata": {},
   "source": [
    "<div class = 'alert alert-block alert-info'>\n",
    "    <b>Indicadores :</b> cliente, tienda\n",
    "    </div>"
   ]
  },
  {
   "cell_type": "markdown",
   "id": "7218828d",
   "metadata": {},
   "source": [
    "### Resumen YTD"
   ]
  },
  {
   "cell_type": "markdown",
   "id": "45bf4c5a",
   "metadata": {},
   "source": [
    "Tablas que representan la variacion de ventas general, variacion de entradas, varición T.Prom, Var. artículos por ticket"
   ]
  },
  {
   "cell_type": "markdown",
   "id": "9f28c46a",
   "metadata": {},
   "source": [
    "<div class = 'alert alert-block alert-info'>\n",
    "    <b>Indicadores :</b> cliente, tienda\n",
    "    </div>"
   ]
  },
  {
   "cell_type": "markdown",
   "id": "5a1d3c73",
   "metadata": {},
   "source": [
    "### Resumen especifico "
   ]
  },
  {
   "cell_type": "markdown",
   "id": "0247f9be",
   "metadata": {},
   "source": [
    "Muestra un resumen de las variaciones respecto a la ciudad, categoría y centro comercial"
   ]
  },
  {
   "cell_type": "markdown",
   "id": "d337f668",
   "metadata": {},
   "source": [
    "<div class = 'alert alert-block alert-info'>\n",
    "    <b>Indicadores :</b> ciudad, centro comercial, categoría, cliente, tienda\n",
    "    </div>"
   ]
  }
 ],
 "metadata": {
  "kernelspec": {
   "display_name": "Python 3 (ipykernel)",
   "language": "python",
   "name": "python3"
  },
  "language_info": {
   "codemirror_mode": {
    "name": "ipython",
    "version": 3
   },
   "file_extension": ".py",
   "mimetype": "text/x-python",
   "name": "python",
   "nbconvert_exporter": "python",
   "pygments_lexer": "ipython3",
   "version": "3.10.6"
  },
  "toc": {
   "base_numbering": 1,
   "nav_menu": {},
   "number_sections": true,
   "sideBar": true,
   "skip_h1_title": false,
   "title_cell": "Table of Contents",
   "title_sidebar": "Contents",
   "toc_cell": false,
   "toc_position": {},
   "toc_section_display": true,
   "toc_window_display": false
  }
 },
 "nbformat": 4,
 "nbformat_minor": 5
}
