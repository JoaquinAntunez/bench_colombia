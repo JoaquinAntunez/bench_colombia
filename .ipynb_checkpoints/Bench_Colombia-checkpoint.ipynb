{
 "cells": [
  {
   "cell_type": "markdown",
   "id": "6b8c78fa",
   "metadata": {},
   "source": [
    "# Bench Colombia (BI)"
   ]
  },
  {
   "cell_type": "markdown",
   "id": "75ab6abc",
   "metadata": {},
   "source": [
    "### Control"
   ]
  },
  {
   "cell_type": "markdown",
   "id": "dc6f4932-f367-4d8d-851e-5268dfc1877d",
   "metadata": {},
   "source": [
    "_________"
   ]
  },
  {
   "cell_type": "markdown",
   "id": "dc22d74b",
   "metadata": {},
   "source": [
    "<b>Panel de control</b> *Para cada indicador se analizan los siguientes filtros de datos*"
   ]
  },
  {
   "cell_type": "markdown",
   "id": "1e948dc7",
   "metadata": {},
   "source": [
    "<div class = 'alert alert-block alert-warning'>\n",
    "    <b>Filtros :</b> Cliente, Categoría, Marca 1, Marca 2, Meses anteriores, Date(fecha), Centro comercial, Ciudad.\n",
    "    </div>"
   ]
  },
  {
   "cell_type": "markdown",
   "id": "5e9d3677-81f5-454a-9c0d-2c5a98a0f2a5",
   "metadata": {},
   "source": [
    "________"
   ]
  },
  {
   "cell_type": "markdown",
   "id": "e9057721",
   "metadata": {},
   "source": [
    "### Evolución YTD"
   ]
  },
  {
   "cell_type": "markdown",
   "id": "b597c6dd",
   "metadata": {},
   "source": [
    "Evolución con respecto de un mes vs el mismo mes de otro año"
   ]
  },
  {
   "cell_type": "markdown",
   "id": "fd19778a",
   "metadata": {},
   "source": [
    "<div class = 'alert alert-block alert-info'>\n",
    "    <b>Indicadores :</b> Tráfico, Venta, Conversión, Ticket promedio, Permanencia y Concurrencia\n",
    "    </div>"
   ]
  },
  {
   "cell_type": "markdown",
   "id": "a0898850",
   "metadata": {},
   "source": [
    "### Comparativo mensual"
   ]
  },
  {
   "cell_type": "markdown",
   "id": "17e0179f",
   "metadata": {},
   "source": [
    "Comparativo con respecto de un mes vs el mismo mes de otro año"
   ]
  },
  {
   "cell_type": "markdown",
   "id": "b081ddbb",
   "metadata": {},
   "source": [
    "<div class = 'alert alert-block alert-info'>\n",
    "    <b>Indicadores :</b> Tráfico, Venta, Conversión, Ticket promedio, Permanencia, Concurrencia, Tickets, Art x Tickets y Precio promedio\n",
    "    </div>"
   ]
  },
  {
   "cell_type": "markdown",
   "id": "db5d09f6",
   "metadata": {},
   "source": [
    "### Comparativo mes anterior "
   ]
  },
  {
   "cell_type": "markdown",
   "id": "28765825",
   "metadata": {},
   "source": [
    "Compara respecto de un mes al mes anterior del mismo año"
   ]
  },
  {
   "cell_type": "markdown",
   "id": "6ce2a9b8",
   "metadata": {},
   "source": [
    "<div class = 'alert alert-block alert-info'>\n",
    "    <b>Indicadores :</b> Tráfico, Venta, Conversión, Ticket promedio, Permanencia, Concurrencia, Tickets, Art x Tickets y Precio promedio\n",
    "    </div>"
   ]
  },
  {
   "cell_type": "markdown",
   "id": "08557ae8",
   "metadata": {},
   "source": [
    "### Evolución mensual"
   ]
  },
  {
   "cell_type": "markdown",
   "id": "37c3086d",
   "metadata": {},
   "source": [
    "Dato en gráfico promedio de un mes comparado con 45 clientes de su categoría (moda hombre mujer)"
   ]
  },
  {
   "cell_type": "markdown",
   "id": "77268497",
   "metadata": {},
   "source": [
    "<div class = 'alert alert-block alert-info'>\n",
    "    <b>Indicadores :</b> Venta, Tráfico, Tasa conversión, Ticket promedio\n",
    "    </div>"
   ]
  },
  {
   "cell_type": "markdown",
   "id": "18c0d2d0",
   "metadata": {},
   "source": [
    "### Comparativo mensual"
   ]
  },
  {
   "cell_type": "markdown",
   "id": "14bdf6aa",
   "metadata": {},
   "source": [
    "Dato promedio mensual mostrando en grafico venta promedio, tráfico, Tasa conversion, Ticket promedio"
   ]
  },
  {
   "cell_type": "markdown",
   "id": "5514092a",
   "metadata": {},
   "source": [
    "<div class = 'alert alert-block alert-info'>\n",
    "    <b>Indicadores :</b> Venta promedio, Tráfico promedio, Tasa conversión, Ticket promedio\n",
    "    </div>"
   ]
  },
  {
   "cell_type": "markdown",
   "id": "cb954b3f",
   "metadata": {},
   "source": [
    "### Comparativo mensual "
   ]
  },
  {
   "cell_type": "markdown",
   "id": "af7fbac7",
   "metadata": {},
   "source": [
    "Comparativo mensual promedio por marcas seleccionadas"
   ]
  },
  {
   "cell_type": "markdown",
   "id": "70aa34c7",
   "metadata": {},
   "source": [
    "<div class = 'alert alert-block alert-info'>\n",
    "    <b>Indicadores :</b> Ventas promedio, Tráfico promedio, Tasa conv. promedio, Ticket promedio\n",
    "    </div>"
   ]
  },
  {
   "cell_type": "markdown",
   "id": "00e481dd",
   "metadata": {},
   "source": [
    "### Participación ventas y entradas"
   ]
  },
  {
   "cell_type": "markdown",
   "id": "6340b042",
   "metadata": {},
   "source": [
    "Representa dos gráficos donde se muestra las ventas y el tráfico por cliente y categoría"
   ]
  },
  {
   "cell_type": "markdown",
   "id": "98c8faaa",
   "metadata": {},
   "source": [
    "<div class = 'alert alert-block alert-info'>\n",
    "    <b>Indicadores :</b> Ventas y Tráfico\n",
    "    </div>"
   ]
  },
  {
   "cell_type": "markdown",
   "id": "f9b5e529",
   "metadata": {},
   "source": [
    "### Centros comerciales"
   ]
  },
  {
   "cell_type": "markdown",
   "id": "06d462c4",
   "metadata": {},
   "source": [
    "Tabla donde muestra distintos centros comerciales y sus ventas, Tráficos, Conversion, etcétera"
   ]
  },
  {
   "cell_type": "markdown",
   "id": "e117caf3",
   "metadata": {},
   "source": [
    "<div class = 'alert alert-block alert-info'>\n",
    "    <b>Indicadores :</b> Centro comercial, Venta, Tráfico, Conversión, Ticket Prom, Articulos por ticket y precio promedio\n",
    "    </div>"
   ]
  },
  {
   "cell_type": "markdown",
   "id": "3ac2a5ec",
   "metadata": {},
   "source": [
    "### Resumen Clientes"
   ]
  },
  {
   "cell_type": "markdown",
   "id": "42cb448d",
   "metadata": {},
   "source": [
    "Tabla que muestra como esta el **cliente** respecto las ventas, variaciones, entradas en relación a años anteriores"
   ]
  },
  {
   "cell_type": "markdown",
   "id": "ee22ff35",
   "metadata": {},
   "source": [
    "<div class = 'alert alert-block alert-info'>\n",
    "    <b>Indicadores :</b> Cliente, Ventas, Ventas año anterior, Var ventas, Entradas, Entradas año anterior, Var Tráfico, Tasa conversión, Tasa conversión año anterior, Var tasa conversión, Ticket promedio, Ticket promedio año anterior, Var ticket promedio, Tickets, Tickets año anterior, Var tickets, Articulo por ticket, Articulos por ticket año anterior, Var artículos por ticket, Precio promedio, Precio promedio año anterior, Var precio promedio, concurrencia, Concurrencia año anterior, Var concurrencia, Permanencia, Permanencia año anterior y Var permanencia\n",
    "    </div>"
   ]
  },
  {
   "cell_type": "markdown",
   "id": "9b5a6f33",
   "metadata": {},
   "source": [
    "### Resumen semanas"
   ]
  },
  {
   "cell_type": "markdown",
   "id": "b7ada5e1",
   "metadata": {},
   "source": [
    "Tabla que muestra la semana del cliente en cuanto a variación y año actual"
   ]
  },
  {
   "cell_type": "markdown",
   "id": "433228a6",
   "metadata": {},
   "source": [
    "<div class = 'alert alert-block alert-info'>\n",
    "    <b>Indicadores :</b> Semana cliente, Año actual, Año anterior y variación\n",
    "    </div>"
   ]
  },
  {
   "cell_type": "markdown",
   "id": "e39712d5",
   "metadata": {},
   "source": [
    "### Resumen general"
   ]
  },
  {
   "cell_type": "markdown",
   "id": "f954d8f1",
   "metadata": {},
   "source": [
    "Tablas que representan la variacion de ventas general, variacion de entradas, varición T.Prom, Var. artículos por ticket"
   ]
  },
  {
   "cell_type": "markdown",
   "id": "a6f93d06",
   "metadata": {},
   "source": [
    "<div class = 'alert alert-block alert-info'>\n",
    "    <b>Indicadores :</b> Variación venta, Variación entrada, Variación ticket promedio, variacieon articulo por ticket, Variación tasa conversión y Variaci precio promedio\n",
    "    </div>"
   ]
  },
  {
   "cell_type": "markdown",
   "id": "7218828d",
   "metadata": {},
   "source": [
    "### Resumen YTD"
   ]
  },
  {
   "cell_type": "markdown",
   "id": "45bf4c5a",
   "metadata": {},
   "source": [
    "Tablas que representan la variacion de ventas general, variacion de entradas, varición T.Prom, Var. artículos por ticket"
   ]
  },
  {
   "cell_type": "markdown",
   "id": "9f28c46a",
   "metadata": {},
   "source": [
    "<div class = 'alert alert-block alert-info'>\n",
    "    <b>Indicadores :</b> Variación ventas, Variación entradas, Variación tasa conversión, Variación Ticket promedio, Variacieon Articulos por ticket, Variación precio promedio\n",
    "    </div>"
   ]
  },
  {
   "cell_type": "markdown",
   "id": "5a1d3c73",
   "metadata": {},
   "source": [
    "### Resumen especifico "
   ]
  },
  {
   "cell_type": "markdown",
   "id": "0247f9be",
   "metadata": {},
   "source": [
    "Muestra un resumen de las variaciones respecto a la ciudad, categoría y centro comercial"
   ]
  },
  {
   "cell_type": "markdown",
   "id": "d337f668",
   "metadata": {},
   "source": [
    "<div class = 'alert alert-block alert-info'>\n",
    "    <b>Indicadores :</b>venta, tráfico conversión, ticket promedio, arteiculos por ticket y precio promedio \n",
    "    </div>"
   ]
  },
  {
   "cell_type": "code",
   "execution_count": null,
   "id": "3097a629-48ce-459f-a6a0-3c2cb776fde5",
   "metadata": {},
   "outputs": [],
   "source": []
  }
 ],
 "metadata": {
  "kernelspec": {
   "display_name": "Python 3 (ipykernel)",
   "language": "python",
   "name": "python3"
  },
  "language_info": {
   "codemirror_mode": {
    "name": "ipython",
    "version": 3
   },
   "file_extension": ".py",
   "mimetype": "text/x-python",
   "name": "python",
   "nbconvert_exporter": "python",
   "pygments_lexer": "ipython3",
   "version": "3.10.6"
  },
  "toc": {
   "base_numbering": 1,
   "nav_menu": {},
   "number_sections": true,
   "sideBar": true,
   "skip_h1_title": false,
   "title_cell": "Table of Contents",
   "title_sidebar": "Contents",
   "toc_cell": false,
   "toc_position": {},
   "toc_section_display": true,
   "toc_window_display": false
  }
 },
 "nbformat": 4,
 "nbformat_minor": 5
}
