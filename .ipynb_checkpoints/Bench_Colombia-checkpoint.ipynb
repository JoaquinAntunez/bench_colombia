{
 "cells": [
  {
   "cell_type": "markdown",
   "id": "6b8c78fa",
   "metadata": {},
   "source": [
    "# Mapeo de indicadores"
   ]
  },
  {
   "cell_type": "markdown",
   "id": "75ab6abc",
   "metadata": {},
   "source": [
    "### Bench Colombia (BI)"
   ]
  },
  {
   "cell_type": "markdown",
   "id": "dc6f4932-f367-4d8d-851e-5268dfc1877d",
   "metadata": {},
   "source": [
    "_________"
   ]
  },
  {
   "cell_type": "markdown",
   "id": "133d5def-e1cd-4ec6-825a-ede6e0265204",
   "metadata": {},
   "source": [
    "<div class = 'alert alert-block alert-info'>\n",
    "    <b>Indicadores :</b> Tráfico, Venta, Conversión, Ticket promedio, Permanencia, Concurrencia, Tickets, Art x Tickets y Precio promedio.\n",
    "    </div>"
   ]
  },
  {
   "cell_type": "markdown",
   "id": "dc22d74b",
   "metadata": {},
   "source": [
    "<b>Panel de control</b> *Para cada indicador se analizan los siguientes filtros de datos*"
   ]
  },
  {
   "cell_type": "markdown",
   "id": "1e948dc7",
   "metadata": {},
   "source": [
    "<div class = 'alert alert-block alert-warning'>\n",
    "    <b>Filtros :</b> Cliente, Categoría, Marca 1, Marca 2, Meses anteriores, Date(fecha), Centro comercial, Ciudad.\n",
    "    </div>"
   ]
  },
  {
   "cell_type": "markdown",
   "id": "4d22f5fe-408f-45db-8b27-17ed409deb5c",
   "metadata": {},
   "source": [
    "### Funciones"
   ]
  },
  {
   "cell_type": "markdown",
   "id": "a39ebe74-0b8d-4f44-9151-c488ec8f28ab",
   "metadata": {},
   "source": [
    "________"
   ]
  },
  {
   "cell_type": "markdown",
   "id": "e9057721",
   "metadata": {},
   "source": [
    "### Evolución YTD"
   ]
  },
  {
   "cell_type": "markdown",
   "id": "b597c6dd",
   "metadata": {},
   "source": [
    "Evolucion Year to Date (YTD) mide la coparacion de rendimiento de una métrica desde el comienzo del año hasta la fecha actual."
   ]
  },
  {
   "cell_type": "markdown",
   "id": "f443d625-d3e1-409e-99f9-536f0d2d96b1",
   "metadata": {},
   "source": [
    "<b>Evolucion YTD(%) =</b> ((valor actual - valor inicial del año) / valor inicial del año)) x 100"
   ]
  },
  {
   "cell_type": "code",
   "execution_count": 30,
   "id": "0bb846db-edcd-44ab-b3be-c62c1f5e3429",
   "metadata": {},
   "outputs": [],
   "source": [
    "def variacion_ytd (indicador_actual, indicador_inicia):\n",
    "    var_ytd = ((indicador_actual - indicador_inicial) / indicador_inicial) * 100\n",
    "    return var_ytd"
   ]
  },
  {
   "cell_type": "markdown",
   "id": "a0898850",
   "metadata": {},
   "source": [
    "### Comparativo mensual"
   ]
  },
  {
   "cell_type": "markdown",
   "id": "17e0179f",
   "metadata": {},
   "source": [
    "Compara el rendimiento de una métrica especifica (indicadores) entre diferentes meses, este analisis es útil para identificar tendencias, estacionalidades y áreas de mejora en el tiempo."
   ]
  },
  {
   "cell_type": "markdown",
   "id": "298ce569-25fd-48ed-98ab-d59895c2912e",
   "metadata": {},
   "source": [
    "Para realizar un análisi comparativo mensual, podemos calcular la variación porcentual de ventas de cada mes con respecto al mes anterior."
   ]
  },
  {
   "cell_type": "markdown",
   "id": "f19698ae-09ca-4a42-a947-69b0b5aa9850",
   "metadata": {},
   "source": [
    "<b> Variacion mensual(%) =</b> ((indicador mes actual - indicador mes anterior) / indicador mes anterior)) x 100"
   ]
  },
  {
   "cell_type": "code",
   "execution_count": 17,
   "id": "f3b51a27-7d9a-4a35-95eb-99cf6a517af3",
   "metadata": {},
   "outputs": [],
   "source": [
    "def variacion_mensual (indicador_mes_actual, indicador_mes_anterior):\n",
    "    var_mensual = ((indicador_mes_actual - indicador_mes_anterior) / indicador_mes_anterior) * 100\n",
    "    return var_mensual"
   ]
  },
  {
   "cell_type": "markdown",
   "id": "db5d09f6",
   "metadata": {},
   "source": [
    "### Comparativo mes anterior "
   ]
  },
  {
   "cell_type": "markdown",
   "id": "28765825",
   "metadata": {},
   "source": [
    "Acá estamos comparando el análisis evaluando la evolución de una métrica (indicadores en nuestro caso), este tipo de análisis es esencial para identificar tendencias, cambios y oportunidades de mejora"
   ]
  },
  {
   "cell_type": "markdown",
   "id": "a54ec2e4-fed9-454c-9cbf-e51c284616ba",
   "metadata": {},
   "source": [
    "<b>Variacion mensual con respecto al mes anterior:</b>"
   ]
  },
  {
   "cell_type": "markdown",
   "id": "82bbacc1-22b5-4c0b-a05f-b680795fced0",
   "metadata": {},
   "source": [
    "<b> Variacion mensual =</b> ((indicador mes actual - indicador mes anterior) / indicador mes anterior)) x 100"
   ]
  },
  {
   "cell_type": "code",
   "execution_count": 19,
   "id": "4d7b1cec-1479-4dfd-afee-715437f786a3",
   "metadata": {},
   "outputs": [],
   "source": [
    "def variacion_mensual (indicador_mes_actual, indicador_mes_anterior):\n",
    "    var_mensual = ((indicador_mes_actual - indicador_mes_anterior) / indicador_mes_anterior) * 100\n",
    "    return var_mensual"
   ]
  },
  {
   "cell_type": "markdown",
   "id": "08557ae8",
   "metadata": {},
   "source": [
    "### Evolución mensual"
   ]
  },
  {
   "cell_type": "markdown",
   "id": "37c3086d",
   "metadata": {},
   "source": [
    "Dato en gráfico promedio de un mes comparado con 45 clientes de su categoría (moda hombre mujer), la evolución mensual permite comparar el rendimiento de los indicadores de un mes a otro. "
   ]
  },
  {
   "cell_type": "markdown",
   "id": "2a32ffba-846f-47b9-9b0d-f6344b0d51fc",
   "metadata": {},
   "source": [
    "<b> Evolución mensual =</b> ((indicador mes actual - indicador mes anterior) / indicador mes anterior)) x 100"
   ]
  },
  {
   "cell_type": "code",
   "execution_count": 20,
   "id": "88684b3f-44c8-46f1-86d0-4bb0f83cbef8",
   "metadata": {},
   "outputs": [],
   "source": [
    "def evolucion_mensual (indicador_mes_actual, indicador_mes_anterior):\n",
    "    evolucion_mensual = ((indicador_mes_actual - indicador_mes_anterior) / indicador_mes_anterior) * 100\n",
    "    return evolucion_mensual"
   ]
  },
  {
   "cell_type": "markdown",
   "id": "18c0d2d0",
   "metadata": {},
   "source": [
    "### Comparativo mensual"
   ]
  },
  {
   "cell_type": "markdown",
   "id": "14bdf6aa",
   "metadata": {},
   "source": [
    "Dato promedio mensual mostrando en grafico venta promedio, tráfico, Tasa conversion, Ticket promedio. \n",
    "Estos datos permiten evaluar y comparar el rendimiento de los indicadores mencionados."
   ]
  },
  {
   "cell_type": "markdown",
   "id": "7c8d3baa-3abd-492c-b5d9-547a473d1937",
   "metadata": {},
   "source": [
    "<b> Comparativo mensual =</b> ((indicador mes actual - indicador mes anterior) / indicador mes anterior)) x 100"
   ]
  },
  {
   "cell_type": "code",
   "execution_count": 21,
   "id": "d0be4413-34dc-4859-9e5e-ff0e1ed43b59",
   "metadata": {},
   "outputs": [],
   "source": [
    "def comparativo_mensual (indicador_mes_actual, indicador_mes_anterior):\n",
    "    comparativo_mensual = ((indicador_mes_actual - indicador_mes_anterior) / indicador_mes_anterior) * 100\n",
    "    return comparativo_mensual"
   ]
  },
  {
   "cell_type": "markdown",
   "id": "cb954b3f",
   "metadata": {},
   "source": [
    "### Comparativo mensual "
   ]
  },
  {
   "cell_type": "markdown",
   "id": "af7fbac7",
   "metadata": {},
   "source": [
    "Comparativo mensual por categoría y cliente"
   ]
  },
  {
   "cell_type": "markdown",
   "id": "f097f452-7162-4bbd-8734-4d499288c1b8",
   "metadata": {},
   "source": [
    "<b>Comparación por categoría</b> Métrica que utilizamos para medir el cambio en una variable en este caso indicadores dentro de distintas categorías de producto. Entregando un analisis financiero y de rendimiento permitiendo entenderpor categoría el rendimiento y detectar tendencias. "
   ]
  },
  {
   "cell_type": "markdown",
   "id": "361aa1e8-8cea-4ba8-82e6-d5dece4986dd",
   "metadata": {},
   "source": [
    "<b>comparacieon por categoría =</b> ((indicador actual de la categoría - indicador anterior de la categoría) / indicador anterior categoría ) x 100"
   ]
  },
  {
   "cell_type": "code",
   "execution_count": 23,
   "id": "49efb73c-cbca-475d-b66f-dd204f215a8f",
   "metadata": {},
   "outputs": [],
   "source": [
    "def Variacion_categoria (indicador_actual_categoria, indicador_anterior_categoria):\n",
    "    var_categoria = ((indicador_actual_categoria - indicador_anterior_categoria) / indicador_anterior_categoria) * 100\n",
    "    return var_categoria"
   ]
  },
  {
   "cell_type": "markdown",
   "id": "00e481dd",
   "metadata": {},
   "source": [
    "### Participación ventas y entradas"
   ]
  },
  {
   "cell_type": "markdown",
   "id": "6340b042",
   "metadata": {},
   "source": [
    "Representa dos gráficos donde se muestra las ventas y el tráfico por cliente y categoría. Cuando hablamos de participación nos referimos a cómo contribuye una determinada categoría, producto o area total de ventas o entradas. Ayudando a entender que parte del total representa cada componente y como se distribuye entre diferentes categorías"
   ]
  },
  {
   "cell_type": "markdown",
   "id": "b0f34ebc-1d27-4101-ad5e-f6895457edef",
   "metadata": {},
   "source": [
    "<b>Participacion =</b> ((indicador del producto) / indicador total) x 100"
   ]
  },
  {
   "cell_type": "code",
   "execution_count": 24,
   "id": "957168ab-0ee0-431b-938f-dbfe5557fdd4",
   "metadata": {},
   "outputs": [],
   "source": [
    "def participacion_categoría (indicador_categoria):\n",
    "    total_venta = sum(indicador_categoria)\n",
    "    promedio_indicador = total_venta / len(indicador_categoria)\n",
    "    return promedio_indicador"
   ]
  },
  {
   "cell_type": "markdown",
   "id": "f9b5e529",
   "metadata": {},
   "source": [
    "### Centros comerciales"
   ]
  },
  {
   "cell_type": "markdown",
   "id": "06d462c4",
   "metadata": {},
   "source": [
    "Tabla donde muestra distintos centros comerciales y sus indicadores respecto al mes del año seleccionado"
   ]
  },
  {
   "cell_type": "markdown",
   "id": "9ada376a-579e-409e-9f15-07aedcd74237",
   "metadata": {},
   "source": [
    "<b> Variacieon por centro comercial =</b> ((indicador mes actual - indicador mes anterior) / indicador mes anterior) x 100"
   ]
  },
  {
   "cell_type": "code",
   "execution_count": 26,
   "id": "49f84f82-8410-4a5c-9d3e-fc0e4236d878",
   "metadata": {},
   "outputs": [],
   "source": [
    "def Variacion_centrocomercial (indicador_actual_comercial, indicador_anterior_comercial):\n",
    "    var_comercial = ((indicador_actual_comercial - indicador_anterior_comercial) / indicador_anterior_comercial) * 100\n",
    "    return var_comercial"
   ]
  },
  {
   "cell_type": "markdown",
   "id": "3ac2a5ec",
   "metadata": {},
   "source": [
    "### Resumen Clientes"
   ]
  },
  {
   "cell_type": "markdown",
   "id": "42cb448d",
   "metadata": {},
   "source": [
    "Tabla que muestra la representacion en formato tabla como esta el **cliente** respecto a los indicadores consolidando informacieon clave sobre un cliente en particular"
   ]
  },
  {
   "cell_type": "markdown",
   "id": "9b5a6f33",
   "metadata": {},
   "source": [
    "### Resumen semanas"
   ]
  },
  {
   "cell_type": "markdown",
   "id": "b7ada5e1",
   "metadata": {},
   "source": [
    "Tabla que muestra la semana del cliente en cuanto a variación y año actual"
   ]
  },
  {
   "cell_type": "markdown",
   "id": "b72a3e0c-7f11-417c-8122-440521f5335c",
   "metadata": {},
   "source": [
    "<b>Resumen variacion =</b> ((valor actual - valor inicial del año) / valor inicial del año)) x 100"
   ]
  },
  {
   "cell_type": "code",
   "execution_count": 29,
   "id": "621c4ef7-ffc9-4221-93d5-4fa6abff96cc",
   "metadata": {},
   "outputs": [],
   "source": [
    "def variacion_resumen (indicador_actual, indicador_inicia):\n",
    "    resumen = ((indicador_actual - indicador_inicial) / indicador_inicial) * 100\n",
    "    return resumen"
   ]
  },
  {
   "cell_type": "markdown",
   "id": "e39712d5",
   "metadata": {},
   "source": [
    "### Resumen general (tienda)"
   ]
  },
  {
   "cell_type": "markdown",
   "id": "f954d8f1",
   "metadata": {},
   "source": [
    "Tablas que representan la variacion de los indicadores respecto a la tienda"
   ]
  },
  {
   "cell_type": "markdown",
   "id": "7218828d",
   "metadata": {},
   "source": [
    "### Resumen YTD"
   ]
  },
  {
   "cell_type": "markdown",
   "id": "45bf4c5a",
   "metadata": {},
   "source": [
    "Nos estamos refiriendo a la acumulación de datos desde el inicio del año hasta la fecha actual. medida utilizada para el análisis  del rendimiento a lo largo del año"
   ]
  },
  {
   "cell_type": "code",
   "execution_count": 31,
   "id": "66ef43be-04e3-44c7-be64-b27d177f96e6",
   "metadata": {},
   "outputs": [],
   "source": [
    "def resumen_ytd (indicador_actual, indicador_inicia):\n",
    "    resumen = ((indicador_actual - indicador_inicial) / indicador_inicial) * 100\n",
    "    return resumen"
   ]
  },
  {
   "cell_type": "markdown",
   "id": "5a1d3c73",
   "metadata": {},
   "source": [
    "### Resumen especifico "
   ]
  },
  {
   "cell_type": "markdown",
   "id": "0247f9be",
   "metadata": {},
   "source": [
    "Muestra un resumen de las variaciones respecto a la ciudad, categoría y centro comercial"
   ]
  }
 ],
 "metadata": {
  "kernelspec": {
   "display_name": "Python 3 (ipykernel)",
   "language": "python",
   "name": "python3"
  },
  "language_info": {
   "codemirror_mode": {
    "name": "ipython",
    "version": 3
   },
   "file_extension": ".py",
   "mimetype": "text/x-python",
   "name": "python",
   "nbconvert_exporter": "python",
   "pygments_lexer": "ipython3",
   "version": "3.10.6"
  },
  "toc": {
   "base_numbering": 1,
   "nav_menu": {},
   "number_sections": true,
   "sideBar": true,
   "skip_h1_title": false,
   "title_cell": "Table of Contents",
   "title_sidebar": "Contents",
   "toc_cell": false,
   "toc_position": {},
   "toc_section_display": true,
   "toc_window_display": false
  }
 },
 "nbformat": 4,
 "nbformat_minor": 5
}
